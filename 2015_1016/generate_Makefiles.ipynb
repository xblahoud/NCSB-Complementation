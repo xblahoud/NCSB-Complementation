{
 "cells": [
  {
   "cell_type": "code",
   "execution_count": null,
   "metadata": {
    "collapsed": false
   },
   "outputs": [],
   "source": [
    "%run ../Evaluation-lib.ipynb"
   ]
  },
  {
   "cell_type": "code",
   "execution_count": null,
   "metadata": {
    "collapsed": true
   },
   "outputs": [],
   "source": [
    "import spot"
   ]
  },
  {
   "cell_type": "markdown",
   "metadata": {},
   "source": [
    "# Prepare automata\n",
    " * Get the archive and extract it to get all the automata."
   ]
  },
  {
   "cell_type": "code",
   "execution_count": null,
   "metadata": {
    "collapsed": true
   },
   "outputs": [],
   "source": [
    "%%bash --out out --err err\n",
    "wget -O 20151016-automata.tar.xz http://xayn.heizmann.name/owncloud/index.php/s/Coq2zfVp5GJmfPb/download\n",
    "tar --wildcards --strip-components=1 -xf 20151016-automata.tar.xz *.hoa\n",
    "rm 20151016-automata.tar.xz"
   ]
  },
  {
   "cell_type": "markdown",
   "metadata": {},
   "source": [
    " * Ultimate currently produces .hoa files with wrong `Alias` lines. FIX"
   ]
  },
  {
   "cell_type": "code",
   "execution_count": null,
   "metadata": {
    "collapsed": false
   },
   "outputs": [],
   "source": [
    "!sed -i \"/AP/,/Acceptance/ s/p\\([0-9]\\+\\)/\\1/g\" complement/* semideterministic/*"
   ]
  },
  {
   "cell_type": "markdown",
   "metadata": {},
   "source": [
    "# Generate Makefile\n",
    "We create additional three subdirctories:\n",
    " * `simplified` -- stores the simplified automata\n",
    " * `ltl2dstar` -- stores the complements built by `ltl2dstar`\n",
    " * `products` -- stores all products needed to test correctness\n",
    " \n",
    "Each subdirectory has its own `Makefile` and the top-level `Makefile` only runs them recursively and set proper dependencies. We use the simplified (by Spot's `autfilt`) automata for computing complement by `ltl2dstar` in order to achieve results for more complements.\n",
    "\n",
    "The process of creating `Makefile` for a subdirectory (`target`) is always splitted into two halves:\n",
    "1. `target` : `files`\n",
    "2. rules for each file"
   ]
  },
  {
   "cell_type": "markdown",
   "metadata": {},
   "source": [
    "## Simplifications"
   ]
  },
  {
   "cell_type": "code",
   "execution_count": null,
   "metadata": {
    "collapsed": true
   },
   "outputs": [],
   "source": [
    "def simplify_rule(aut,degree='low',timeout='5m'):\n",
    "    rule='{0} : {1}\\n'.format(get_simplified_name(aut,degree),\\\n",
    "                                 os.path.join(os.pardir,aut))\n",
    "    rule+='\\t{1} || touch {0}\\n'.format(get_simplified_name(aut,degree),\n",
    "            get_simplify_command(os.path.join(os.pardir,aut),\\\n",
    "            get_simplified_name(aut,degree),degree,timeout))\n",
    "    return rule"
   ]
  },
  {
   "cell_type": "code",
   "execution_count": null,
   "metadata": {
    "collapsed": false,
    "scrolled": true
   },
   "outputs": [],
   "source": [
    "def simplified_target(degree='low'):\n",
    "    simp_paths = []\n",
    "    for case in get_cases():\n",
    "        simp_paths.extend([get_simplified_name(aut,degree) for aut in get_complements(case)])\n",
    "    return 'simp_{0}: {1}\\n\\t\\n'.format(degree,' '.join(simp_paths))"
   ]
  },
  {
   "cell_type": "raw",
   "metadata": {},
   "source": [
    "#TEST simplify_rule() for recursive Makefiles\n",
    "print(simplify_rule(get_complements(get_cases()[0])[0]))"
   ]
  },
  {
   "cell_type": "markdown",
   "metadata": {},
   "source": [
    "## Correctness definitions"
   ]
  },
  {
   "cell_type": "markdown",
   "metadata": {},
   "source": [
    "In order to verify whether $C$ is a complement of $A$ we have to check:\n",
    "\n",
    "1. $L(A)\\cap L(C) = \\emptyset$\n",
    "2. $\\overline{L(A)}\\cap \\overline{L(C)} = \\emptyset$\n",
    "\n",
    "The first is easily done by `autfilt`, for the other we need the complements of $A$ and $C$ performed by LTL2DSTAR. Since LTL2DSTAR works with propositional alphabet and we work with letter alphabet, we have to adeal with this trouble. It can be done by making a product with **validate automaton**, which enforces that exactly one AP is valid at all times.\n",
    "\n",
    "The workflow is that we create the complements of all automata, and the corresponding products by `autfilt` parallely by using Makefile. We use the simplified automata so that more complements can be computed."
   ]
  },
  {
   "cell_type": "markdown",
   "metadata": {},
   "source": [
    "### Ltl2dstar complements"
   ]
  },
  {
   "cell_type": "code",
   "execution_count": null,
   "metadata": {
    "collapsed": true
   },
   "outputs": [],
   "source": [
    "def ltl2dstar_target():\n",
    "    automata = []\n",
    "    for case in get_cases():\n",
    "        automata.append(get_orig_automaton(case))\n",
    "        automata.extend(get_complements(case))\n",
    "    return 'ltl2dstar: {}\\n\\t\\n'.format(' '.join([get_ltl2dstar_name(aut) for aut in automata]))\n",
    "\n",
    "def ltl2dstar_rule(aut,timeout='5m'):\n",
    "    comp_filename = get_ltl2dstar_name(aut)\n",
    "    if get_algorithm_name(aut) == 'input':\n",
    "        source = par(aut)\n",
    "    else:\n",
    "        source = par(get_simplified_path(aut,'high'))\n",
    "    cmd = 'timeout {} ltl2dstar -B -H --complement-input=yes {} - | \\\n",
    "autfilt -H --merge-transitions > {}'.format(timeout,source,comp_filename)\n",
    "    return '{0}: {1}\\n\\t{2} || touch {0}\\n'.format(comp_filename,source,cmd)"
   ]
  },
  {
   "cell_type": "markdown",
   "metadata": {},
   "source": [
    "### Commands for validate automata"
   ]
  },
  {
   "cell_type": "code",
   "execution_count": null,
   "metadata": {
    "collapsed": true
   },
   "outputs": [],
   "source": [
    "def get_aps_for_case(case):\n",
    "    a = spot.automaton(get_orig_automaton(case))\n",
    "    return [str(ap) for ap in a.ap()]"
   ]
  },
  {
   "cell_type": "code",
   "execution_count": null,
   "metadata": {
    "collapsed": false
   },
   "outputs": [],
   "source": [
    "def create_validate_automaton_cmd(case,timeout='5m'):\n",
    "    aps = get_aps_for_case(case)\n",
    "    return 'timeout {1} ltl2tgba -H -f \\'G({0})\\''.format(\"|\".join(aps),timeout) +\\\n",
    "    ' | timeout {1} autfilt -H --exclusive-ap={0}'.format(\",\".join(aps),timeout)"
   ]
  },
  {
   "cell_type": "markdown",
   "metadata": {},
   "source": [
    "### Commands for the `products` target in `Makefile`"
   ]
  },
  {
   "cell_type": "code",
   "execution_count": null,
   "metadata": {
    "collapsed": true
   },
   "outputs": [],
   "source": [
    "def get_products_target():\n",
    "    complements = []\n",
    "    for case in get_cases():\n",
    "        complements.extend(get_complements(case))\n",
    "    prods = ['prod_{}'.format(os.path.basename(c)) for c in complements]\n",
    "    comp_prods = ['comp_prod_{}'.format(os.path.basename(c)) for c in complements]\n",
    "    return 'prod: {} {}\\n\\t'.format(' '.join(prods),' '.join(comp_prods))"
   ]
  },
  {
   "cell_type": "code",
   "execution_count": null,
   "metadata": {
    "collapsed": false
   },
   "outputs": [],
   "source": [
    "def get_prod_rules(case,timeout='5m'):\n",
    "    rules = '{0} : {2}\\n\\t{1} > {0} || touch {0}\\n'.\\\n",
    "        format(get_validate_name(case),\\\n",
    "               create_validate_automaton_cmd(case),\\\n",
    "               par(get_orig_automaton(case)))\n",
    "    for complement in get_complements(case):\n",
    "        pr_complement=os.path.basename(complement)\n",
    "        paths=dict()\n",
    "        paths['product']='prod_{}'.format(pr_complement)\n",
    "        paths['comp_product']='comp_prod_{}'.format(pr_complement)\n",
    "        paths['A']=par(get_orig_automaton(case))\n",
    "        paths['C']=par(complement)\n",
    "        paths['comp_A']=par(get_ltl2dstar_path(get_orig_automaton(case)))\n",
    "        paths['comp_C']=par(get_ltl2dstar_path(complement))\n",
    "        paths['validate']=get_validate_name(case)\n",
    "        paths['timeout']='timeout {}'.format(timeout)\n",
    "        rules+='''\n",
    "{comp_product} : {comp_A} {comp_C} {validate}\n",
    "\\t{timeout} autfilt --product={validate} -H {comp_A} |\\\n",
    "  {timeout} autfilt --product={comp_C} -H > {comp_product} ||\\\n",
    "  touch {comp_product}\n",
    "    \n",
    "{product} : {A} {C}\n",
    "\\t{timeout} autfilt --product={C} -H {A} > {product} || touch {product}\n",
    "    '''.format(**paths)\n",
    "    return rules"
   ]
  },
  {
   "cell_type": "raw",
   "metadata": {},
   "source": [
    "print(get_prod_rules(get_cases()[0]))"
   ]
  },
  {
   "cell_type": "markdown",
   "metadata": {},
   "source": [
    "### Creation of `Makefile` files"
   ]
  },
  {
   "cell_type": "code",
   "execution_count": null,
   "metadata": {
    "collapsed": true
   },
   "outputs": [],
   "source": [
    "Makefile=open('Makefile','w')\n",
    "mktext='''\\\n",
    "SUBDIRS = products ltl2dstar simplified\n",
    "\n",
    ".PHONY: subdirs $(SUBDIRS)\n",
    "\n",
    "subdirs: $(SUBDIRS)\n",
    "\n",
    "$(SUBDIRS):\n",
    "\\t$(MAKE) -C $@\n",
    "\n",
    "ltl2dstar: simplified\n",
    "\n",
    "products: ltl2dstar\n",
    "\n",
    "'''\n",
    "print(mktext,file=Makefile)\n",
    "Makefile.close()"
   ]
  },
  {
   "cell_type": "markdown",
   "metadata": {},
   "source": [
    "#### `Makefile` for simplifications"
   ]
  },
  {
   "cell_type": "code",
   "execution_count": null,
   "metadata": {
    "collapsed": false
   },
   "outputs": [],
   "source": [
    "os.makedirs('simplified',exist_ok=True)\n",
    "sm = open(os.path.join('simplified','Makefile'),'w')\n",
    "print(simplified_target('high'),file=sm)\n",
    "for case in get_cases():\n",
    "    for aut in get_complements(case):\n",
    "        print(simplify_rule(aut,'high'),file=sm)\n",
    "sm.close()"
   ]
  },
  {
   "cell_type": "markdown",
   "metadata": {},
   "source": [
    "#### `Makefile` for complements"
   ]
  },
  {
   "cell_type": "code",
   "execution_count": null,
   "metadata": {
    "collapsed": true
   },
   "outputs": [],
   "source": [
    "ltlstar_to = '5m'\n",
    "os.makedirs('ltl2dstar',exist_ok=True)\n",
    "lm = open(os.path.join('ltl2dstar','Makefile'),'w')\n",
    "print(ltl2dstar_target(),file=lm)\n",
    "for case in get_cases():\n",
    "    print(ltl2dstar_rule(get_orig_automaton(case),ltlstar_to),file=lm)\n",
    "    for aut in get_complements(case):\n",
    "        print(ltl2dstar_rule(aut,ltlstar_to),file=lm)\n",
    "lm.close()"
   ]
  },
  {
   "cell_type": "markdown",
   "metadata": {},
   "source": [
    "#### `Makefile` for products"
   ]
  },
  {
   "cell_type": "code",
   "execution_count": null,
   "metadata": {
    "collapsed": false
   },
   "outputs": [],
   "source": [
    "os.makedirs('products',exist_ok=True)\n",
    "pm = open(os.path.join('products','Makefile'),'w')\n",
    "print(get_products_target(),file=pm)\n",
    "for case in get_cases():\n",
    "    print(get_prod_rules(case),file=pm)\n",
    "pm.close()"
   ]
  }
 ],
 "metadata": {
  "kernelspec": {
   "display_name": "Python 3",
   "language": "python",
   "name": "python3"
  },
  "language_info": {
   "codemirror_mode": {
    "name": "ipython",
    "version": 3
   },
   "file_extension": ".py",
   "mimetype": "text/x-python",
   "name": "python",
   "nbconvert_exporter": "python",
   "pygments_lexer": "ipython3",
   "version": "3.4.3"
  }
 },
 "nbformat": 4,
 "nbformat_minor": 0
}
