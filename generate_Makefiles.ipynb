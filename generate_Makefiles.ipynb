{
 "cells": [
  {
   "cell_type": "code",
   "execution_count": 1,
   "metadata": {
    "collapsed": false
   },
   "outputs": [],
   "source": [
    "%run Evaluation-lib.ipynb\n",
    "import spot"
   ]
  },
  {
   "cell_type": "markdown",
   "metadata": {},
   "source": [
    "# Prepare automata\n",
    " * Unpack the automata in '.ats' format as created by Ultimate Automizer during the termination\n",
    "    analysis.\n",
    " * Convert the automata into the `.hoa` format for `spot` and `.gff` format for `GOAL`."
   ]
  },
  {
   "cell_type": "code",
   "execution_count": 2,
   "metadata": {
    "collapsed": false
   },
   "outputs": [],
   "source": [
    "if not os.path.exists(\"semideterministic\"):\n",
    "    print(\"Unpacking semideterministic.tar.xz\")\n",
    "    !tar -xf semideterministic.tar.xz\n",
    "if not os.path.exists(\"semideterministic\"):\n",
    "    print(\"Failed too unpack the source automata\")"
   ]
  },
  {
   "cell_type": "code",
   "execution_count": 3,
   "metadata": {
    "collapsed": false
   },
   "outputs": [],
   "source": [
    "tmp = !ls semideterministic/*.ats\n",
    "names = [os.path.splitext(aut)[0] for aut in tmp]\n",
    "\n",
    "for aut in names:\n",
    "    convert_ats_to_hoa_gff(aut)"
   ]
  },
  {
   "cell_type": "markdown",
   "metadata": {},
   "source": [
    "# Generate Makefile\n",
    "We create up to four additional subdirctories:\n",
    " * `complement` -- stores the complemented automata used for comparison, i.e. produced by GOAL and Ultimate\n",
    " * `simplified` -- stores the simplified automata\n",
    " * `ltl2dstar` -- stores the complements used for verification, built by `ltl2dstar`\n",
    " * `products` -- stores all products needed to test correctness\n",
    " \n",
    "Each subdirectory has its own `Makefile` and the top-level `Makefile` only runs them recursively and set proper dependencies. We use the simplified (by Spot's `autfilt`) automata for computing complement by `ltl2dstar` in order to achieve results for more complements.\n",
    "\n",
    "The process of creating `Makefile` for a subdirectory (`target`) is always splitted into two halves:\n",
    "1. `target` : `files`\n",
    "2. rules for each file"
   ]
  },
  {
   "cell_type": "markdown",
   "metadata": {},
   "source": [
    "## Complements by GOAL and Ultimate"
   ]
  },
  {
   "cell_type": "code",
   "execution_count": 4,
   "metadata": {
    "collapsed": true
   },
   "outputs": [],
   "source": [
    "def complement_target():\n",
    "    complements = []\n",
    "    for case in get_cases():\n",
    "        complements.extend(get_complement_names(case))\n",
    "    return 'complement: {}\\n\\t\\n'.format(' '.join(complements))\n",
    "\n",
    "def complement_GOAL_rule(aut,alg,timeout='5m'):\n",
    "    data = {\n",
    "        'inputFile' : '../semideterministic/{}.gff'.format(aut),\n",
    "        'outputFile' : '{}__ComplementGoal{}.hoa'.format(aut,alg['name']),\n",
    "        'timelimit' : timeout\n",
    "    }\n",
    "    data.update(alg)\n",
    "    command = \"\\\n",
    "timeout {timelimit} ../GOAL-20151018/gc batch \\'$$compl = complement \\\n",
    "-m {args} {inputFile};save -c HOAF $$compl \\\n",
    "{outputFile};\\'\"\n",
    "    cmd = command.format(**data)\n",
    "    rule = '{outputFile} : {inputFile}\\n'.format(**data)\n",
    "    rule += '\\tJVMARGS=-Xmx8g ; '\n",
    "    rule += '\\ttouch {1} && {0} || touch {1}\\n'.format(cmd, data['outputFile'])\n",
    "    return rule\n",
    "\n",
    "def complement_Ulti_rule(aut,timeout='5m'):\n",
    "    data = {\n",
    "        'inputFile' : '../semideterministic/{}.ats'.format(aut),\n",
    "        'outputFile' : '{}__ComplementUltimateBS'.format(aut),\n",
    "        'tmpFile' : 'tmp_{}.ats'.format(aut),\n",
    "        'timelimit' : timeout\n",
    "    }\n",
    "    \n",
    "    script = \\\n",
    "'parseAutomata(\"{inputFile}\");\\\\n\\\n",
    "NestedWordAutomaton complement = buchiComplementNCSB(nwa);\\\\n\\\n",
    "write(complement, \"{outputFile}\", \"HOA\");'\n",
    "    #with open(data['tmpFile'],'w') as tmp_f:\n",
    "    #    print(script.format(**data),file=tmp_f)\n",
    "    # TADY CHCI POUZIT ECHO\n",
    "    rule = \"{outputFile}.hoa : {inputFile}\\n\".format(**data)\n",
    "    rule += '\\tJVMARGS=-Xmx8g ; '\n",
    "    rule += 'echo \\'{0}\\' > {1}\\n'.format(script.format(**data),data['tmpFile'])\n",
    "    cmd = 'timeout {timelimit} ../Ultimate/Ultimate \\\n",
    "--console ../Ultimate/AutomataScriptInterpreter.xml {tmpFile}'.format(**data)\n",
    "    sedcmd = 'sed -i \"/AP/,/Acceptance/ s/p\\([0-9]\\+\\)/\\\\1/g\" {outputFile}.hoa'.format(**data)\n",
    "    rule += '\\ttouch {2}.hoa && {0} && {1} || touch {2}.hoa\\n'.format(cmd, sedcmd, data['outputFile'])\n",
    "    rule += '\\trm -f {tmpFile}\\n'.format(**data)\n",
    "    return rule"
   ]
  },
  {
   "cell_type": "markdown",
   "metadata": {},
   "source": [
    "## Simplifications"
   ]
  },
  {
   "cell_type": "code",
   "execution_count": 5,
   "metadata": {
    "collapsed": true
   },
   "outputs": [],
   "source": [
    "def simplify_rule(aut,degree='low',timeout='5m'):\n",
    "    rule='{0} : {1}\\n'.format(get_simplified_name(aut,degree),\\\n",
    "                                 os.path.join(os.pardir,aut))\n",
    "    rule+='\\t{1} || touch {0}\\n'.format(get_simplified_name(aut,degree),\n",
    "            get_simplify_command(os.path.join(os.pardir,aut),\\\n",
    "            get_simplified_name(aut,degree),degree,timeout))\n",
    "    return rule\n",
    "\n",
    "def simplified_target(degree='low'):\n",
    "    simp_paths = []\n",
    "    for case in get_cases():\n",
    "        simp_paths.extend([get_simplified_name(aut,degree) for aut in get_complements(case)])\n",
    "    return 'simp_{0}: {1}\\n\\t\\n'.format(degree,' '.join(simp_paths))"
   ]
  },
  {
   "cell_type": "markdown",
   "metadata": {},
   "source": [
    "## Correctness definitions"
   ]
  },
  {
   "cell_type": "markdown",
   "metadata": {},
   "source": [
    "In order to verify whether $C$ is a complement of $A$ we have to check:\n",
    "\n",
    "1. $L(A)\\cap L(C) = \\emptyset$\n",
    "2. $\\overline{L(A)}\\cap \\overline{L(C)} = \\emptyset$\n",
    "\n",
    "The first is easily done by `autfilt`, for the other we need the complements of $A$ and $C$ performed by LTL2DSTAR. Since LTL2DSTAR works with propositional alphabet and we work with letter alphabet, we have to adeal with this trouble. It can be done by making a product with **validate automaton**, which enforces that exactly one AP is valid at all times.\n",
    "\n",
    "The workflow is that we create the complements of all automata, and the corresponding products by `autfilt` parallely by using Makefile. We use the simplified automata so that more complements can be computed."
   ]
  },
  {
   "cell_type": "markdown",
   "metadata": {},
   "source": [
    "### Ltl2dstar complements"
   ]
  },
  {
   "cell_type": "code",
   "execution_count": 6,
   "metadata": {
    "collapsed": true
   },
   "outputs": [],
   "source": [
    "def ltl2dstar_target():\n",
    "    automata = []\n",
    "    for case in get_cases():\n",
    "        automata.append(get_orig_automaton(case))\n",
    "        automata.extend(get_complements(case))\n",
    "    return 'ltl2dstar: {}\\n\\t\\n'.format(' '.join([get_ltl2dstar_name(aut) for aut in automata]))\n",
    "\n",
    "def ltl2dstar_rule(aut,timeout='5m'):\n",
    "    comp_filename = get_ltl2dstar_name(aut)\n",
    "    if get_algorithm_name(aut) == 'input':\n",
    "        source = par(aut)\n",
    "    else:\n",
    "        source = par(get_simplified_path(aut,'high'))\n",
    "    cmd = 'timeout {} ltl2dstar -B -H --complement-input=yes {} - | \\\n",
    "autfilt -H --merge-transitions > {}'.format(timeout,source,comp_filename)\n",
    "    return '{0}: {1}\\n\\t{2} || touch {0}\\n'.format(comp_filename,source,cmd)"
   ]
  },
  {
   "cell_type": "markdown",
   "metadata": {},
   "source": [
    "### Commands for validate automata"
   ]
  },
  {
   "cell_type": "code",
   "execution_count": 7,
   "metadata": {
    "collapsed": true
   },
   "outputs": [],
   "source": [
    "def get_aps_for_case(case):\n",
    "    a = spot.automaton(get_orig_automaton(case))\n",
    "    return [str(ap) for ap in a.ap()]"
   ]
  },
  {
   "cell_type": "code",
   "execution_count": 8,
   "metadata": {
    "collapsed": false
   },
   "outputs": [],
   "source": [
    "def create_validate_automaton_cmd(case,timeout='5m'):\n",
    "    aps = get_aps_for_case(case)\n",
    "    return 'timeout {1} ltl2tgba -H -f \\'G({0})\\''.format(\"|\".join(aps),timeout) +\\\n",
    "    ' | timeout {1} autfilt -H --exclusive-ap={0}'.format(\",\".join(aps),timeout)"
   ]
  },
  {
   "cell_type": "markdown",
   "metadata": {},
   "source": [
    "### Commands for the `products` target in `Makefile`"
   ]
  },
  {
   "cell_type": "code",
   "execution_count": 9,
   "metadata": {
    "collapsed": true
   },
   "outputs": [],
   "source": [
    "def get_products_target():\n",
    "    complements = []\n",
    "    for case in get_cases():\n",
    "        complements.extend(get_complements(case))\n",
    "    prods = ['prod_{}'.format(os.path.basename(c)) for c in complements]\n",
    "    comp_prods = ['comp_prod_{}'.format(os.path.basename(c)) for c in complements]\n",
    "    return 'prod: {} {}\\n\\t'.format(' '.join(prods),' '.join(comp_prods))"
   ]
  },
  {
   "cell_type": "code",
   "execution_count": 10,
   "metadata": {
    "collapsed": false
   },
   "outputs": [],
   "source": [
    "def get_prod_rules(case,timeout='5m'):\n",
    "    rules = '{0} : {2}\\n\\t{1} > {0} || touch {0}\\n'.\\\n",
    "        format(get_validate_name(case),\\\n",
    "               create_validate_automaton_cmd(case),\\\n",
    "               par(get_orig_automaton(case)))\n",
    "    for complement in get_complements(case):\n",
    "        pr_complement=os.path.basename(complement)\n",
    "        paths=dict()\n",
    "        paths['product']='prod_{}'.format(pr_complement)\n",
    "        paths['comp_product']='comp_prod_{}'.format(pr_complement)\n",
    "        paths['A']=par(get_orig_automaton(case))\n",
    "        paths['C']=par(complement)\n",
    "        paths['comp_A']=par(get_ltl2dstar_path(get_orig_automaton(case)))\n",
    "        paths['comp_C']=par(get_ltl2dstar_path(complement))\n",
    "        paths['validate']=get_validate_name(case)\n",
    "        paths['timeout']='timeout {}'.format(timeout)\n",
    "        rules+='''\n",
    "{comp_product} : {comp_A} {comp_C} {validate}\n",
    "\\t{timeout} autfilt --product={validate} -H {comp_A} |\\\n",
    "  {timeout} autfilt --product={comp_C} -H > {comp_product} ||\\\n",
    "  touch {comp_product}\n",
    "    \n",
    "{product} : {A} {C}\n",
    "\\t{timeout} autfilt --product={C} -H {A} > {product} || touch {product}\n",
    "    '''.format(**paths)\n",
    "    return rules"
   ]
  },
  {
   "cell_type": "raw",
   "metadata": {},
   "source": [
    "print(get_prod_rules(get_cases()[0]))"
   ]
  },
  {
   "cell_type": "markdown",
   "metadata": {},
   "source": [
    "### Creation of `Makefile` files"
   ]
  },
  {
   "cell_type": "markdown",
   "metadata": {},
   "source": [
    "Run only the two following cells and ignore the rest in case you do not want to check correctness by `ltl2dstar` complementation (to Streett automata)."
   ]
  },
  {
   "cell_type": "code",
   "execution_count": 11,
   "metadata": {
    "collapsed": true
   },
   "outputs": [],
   "source": [
    "Makefile=open('Makefile','w')\n",
    "mktext='''\\\n",
    "SUBDIRS = simplified complement\n",
    "\n",
    ".PHONY: subdirs $(SUBDIRS)\n",
    "\n",
    "subdirs: $(SUBDIRS)\n",
    "\n",
    "$(SUBDIRS):\n",
    "\\t$(MAKE) -C $@\n",
    "'''\n",
    "print(mktext,file=Makefile)\n",
    "Makefile.close()"
   ]
  },
  {
   "cell_type": "markdown",
   "metadata": {},
   "source": [
    "####  `Makefile` for complements"
   ]
  },
  {
   "cell_type": "code",
   "execution_count": 12,
   "metadata": {
    "collapsed": false
   },
   "outputs": [],
   "source": [
    "os.makedirs('complement',exist_ok=True)\n",
    "lm = open(os.path.join('complement','Makefile'),'w')\n",
    "print(complement_target(),file=lm)\n",
    "for aut in get_cases():\n",
    "    print(complement_Ulti_rule(aut),file=lm)\n",
    "    for alg in GOAL_algorithms:\n",
    "        print(complement_GOAL_rule(aut,alg),file=lm)\n",
    "lm.close()"
   ]
  },
  {
   "cell_type": "markdown",
   "metadata": {},
   "source": [
    "#### `Makefile` for simplifications"
   ]
  },
  {
   "cell_type": "code",
   "execution_count": 13,
   "metadata": {
    "collapsed": false
   },
   "outputs": [],
   "source": [
    "os.makedirs('simplified',exist_ok=True)\n",
    "sm = open(os.path.join('simplified','Makefile'),'w')\n",
    "print(simplified_target('high'),file=sm)\n",
    "for case in get_cases():\n",
    "    for aut in get_complements(case):\n",
    "        print(simplify_rule(aut,'high'),file=sm)\n",
    "sm.close()"
   ]
  },
  {
   "cell_type": "markdown",
   "metadata": {},
   "source": [
    "### Makefiles for correctness checking"
   ]
  },
  {
   "cell_type": "markdown",
   "metadata": {},
   "source": [
    "Creation of the complements and especially products can take a lot of time. Do not run these cells if you do not want to make the correctness check."
   ]
  },
  {
   "cell_type": "code",
   "execution_count": 14,
   "metadata": {
    "collapsed": true
   },
   "outputs": [],
   "source": [
    "Makefile=open('Makefile','w')\n",
    "mktext='''\\\n",
    "SUBDIRS = products ltl2dstar simplified complement\n",
    "\n",
    ".PHONY: subdirs $(SUBDIRS)\n",
    "\n",
    "subdirs: $(SUBDIRS)\n",
    "\n",
    "$(SUBDIRS):\n",
    "\\t$(MAKE) -C $@\n",
    "\n",
    "ltl2dstar: simplified\n",
    "\n",
    "products: ltl2dstar\n",
    "\n",
    "'''\n",
    "print(mktext,file=Makefile)\n",
    "Makefile.close()"
   ]
  },
  {
   "cell_type": "markdown",
   "metadata": {},
   "source": [
    "#### `Makefile` for complements by `ltl2dstar`"
   ]
  },
  {
   "cell_type": "code",
   "execution_count": 15,
   "metadata": {
    "collapsed": true
   },
   "outputs": [],
   "source": [
    "ltlstar_to = '5m'\n",
    "os.makedirs('ltl2dstar',exist_ok=True)\n",
    "lm = open(os.path.join('ltl2dstar','Makefile'),'w')\n",
    "print(ltl2dstar_target(),file=lm)\n",
    "for case in get_cases():\n",
    "    print(ltl2dstar_rule(get_orig_automaton(case),ltlstar_to),file=lm)\n",
    "    for aut in get_complements(case):\n",
    "        print(ltl2dstar_rule(aut,ltlstar_to),file=lm)\n",
    "lm.close()"
   ]
  },
  {
   "cell_type": "markdown",
   "metadata": {},
   "source": [
    "#### `Makefile` for products"
   ]
  },
  {
   "cell_type": "code",
   "execution_count": 16,
   "metadata": {
    "collapsed": false
   },
   "outputs": [],
   "source": [
    "os.makedirs('products',exist_ok=True)\n",
    "pm = open(os.path.join('products','Makefile'),'w')\n",
    "print(get_products_target(),file=pm)\n",
    "for case in get_cases():\n",
    "    print(get_prod_rules(case),file=pm)\n",
    "pm.close()"
   ]
  },
  {
   "cell_type": "markdown",
   "metadata": {},
   "source": [
    "### Wrapper functions\n",
    "These can be used outside this notebook to control which subtargets will be created."
   ]
  },
  {
   "cell_type": "code",
   "execution_count": 17,
   "metadata": {
    "collapsed": false
   },
   "outputs": [],
   "source": [
    "def Makefile_only_simplified():\n",
    "    Makefile=open('Makefile','w')\n",
    "    mktext='''\\\n",
    "SUBDIRS = simplified complement\n",
    "\n",
    ".PHONY: subdirs $(SUBDIRS)\n",
    "\n",
    "subdirs: $(SUBDIRS)\n",
    "\n",
    "$(SUBDIRS):\n",
    "\\t$(MAKE) -C $@\n",
    "'''\n",
    "    print(mktext,file=Makefile)\n",
    "    Makefile.close()"
   ]
  },
  {
   "cell_type": "code",
   "execution_count": 18,
   "metadata": {
    "collapsed": true
   },
   "outputs": [],
   "source": [
    "def Makefile_all():\n",
    "    Makefile=open('Makefile','w')\n",
    "    mktext='''\\\n",
    "SUBDIRS = products ltl2dstar simplified complement\n",
    "\n",
    ".PHONY: subdirs $(SUBDIRS)\n",
    "\n",
    "subdirs: $(SUBDIRS)\n",
    "\n",
    "$(SUBDIRS):\n",
    "\\t$(MAKE) -C $@\n",
    "\n",
    "ltl2dstar: simplified\n",
    "\n",
    "products: ltl2dstar\n",
    "\n",
    "'''\n",
    "    print(mktext,file=Makefile)\n",
    "    Makefile.close()"
   ]
  }
 ],
 "metadata": {
  "kernelspec": {
   "display_name": "Python 3",
   "language": "python",
   "name": "python3"
  },
  "language_info": {
   "codemirror_mode": {
    "name": "ipython",
    "version": 3
   },
   "file_extension": ".py",
   "mimetype": "text/x-python",
   "name": "python",
   "nbconvert_exporter": "python",
   "pygments_lexer": "ipython3",
   "version": "3.4.3"
  }
 },
 "nbformat": 4,
 "nbformat_minor": 0
}
