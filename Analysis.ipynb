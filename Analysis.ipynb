{
 "cells": [
  {
   "cell_type": "markdown",
   "metadata": {},
   "source": [
    "# Correctness and unambiguity check of algorithms for complementation of SDBA"
   ]
  },
  {
   "cell_type": "code",
   "execution_count": null,
   "metadata": {
    "collapsed": true
   },
   "outputs": [],
   "source": [
    "%run Evaluation-lib.ipynb\n",
    "import spot\n",
    "import os\n",
    "import pandas as pd\n",
    "## Imports for progress bars\n",
    "from ipywidgets import FloatProgress, IntProgress, Latex, HBox\n",
    "from IPython.display import display"
   ]
  },
  {
   "cell_type": "markdown",
   "metadata": {},
   "source": [
    "## Unambiguity checking"
   ]
  },
  {
   "cell_type": "code",
   "execution_count": null,
   "metadata": {
    "collapsed": true
   },
   "outputs": [],
   "source": [
    "def is_unambiguous(path):\n",
    "    if not is_computed(path):\n",
    "            return None\n",
    "    a = !timeout '40s' autfilt --is-unambiguous --stats=%f {path}\n",
    "    return len(a) == 1 and a[0] == path"
   ]
  },
  {
   "cell_type": "raw",
   "metadata": {
    "collapsed": false
   },
   "source": [
    "def is_unambiguous(path):\n",
    "    if not is_computed(path):\n",
    "        return None\n",
    "    aut = spot.scc_filter_states(spot.automaton(path))\n",
    "    n = aut.num_edges()\n",
    "    if n == 0:\n",
    "        return True\n",
    "    return n == spot.scc_filter_states(spot.product(aut,aut)).num_edges()"
   ]
  },
  {
   "cell_type": "markdown",
   "metadata": {},
   "source": [
    "The following code runs unambiguity checking and shows the computation progress. The further cells shows the measured values. We check for unambiguity both the original complament and the simplified one."
   ]
  },
  {
   "cell_type": "code",
   "execution_count": null,
   "metadata": {
    "collapsed": false
   },
   "outputs": [],
   "source": [
    "def check_unambiguity():\n",
    "    f = FloatProgress(min=1, max=len(get_cases()))\n",
    "    overall = HBox([f,Latex('Overal progress')])\n",
    "    g = FloatProgress(min=1, max=12,bar_style='success')\n",
    "    label = Latex()\n",
    "    alg = HBox([g,label])\n",
    "    mistakes = FloatProgress(min=0, max=0,bar_style='warning')\n",
    "    mis = HBox([mistakes,Latex('Ratio of unambiguous complements')])\n",
    "    smistakes = FloatProgress(min=0, max=0,bar_style='warning')\n",
    "    smis = HBox([smistakes,Latex('Ratio of complements unambiguous after simplifications')])\n",
    "    res = dict()\n",
    "    unambiguous,sunambiguous = [],[]\n",
    "    display(overall,alg,mis,smis)\n",
    "    for cs in get_cases():\n",
    "        f.value += 1\n",
    "        g.max=(len(get_complements(cs)))\n",
    "        g.value = g.min\n",
    "        for c in get_complements(cs):\n",
    "            mistakes.max += 1\n",
    "            smistakes.max += 1\n",
    "            label.value = \"Algorithm: \"+get_algorithm_name(c)\n",
    "            comp = is_unambiguous(c)\n",
    "            simp = is_unambiguous(get_simplified_path(c))\n",
    "            g.value += 1\n",
    "            if comp:\n",
    "                mistakes.value += 1\n",
    "            if simp:\n",
    "                smistakes.value += 1\n",
    "            res[(cs,get_algorithm_name(c))]={'unambiguous':comp,'unambiguous_simp':simp}\n",
    "    return res"
   ]
  },
  {
   "cell_type": "code",
   "execution_count": null,
   "metadata": {
    "collapsed": true
   },
   "outputs": [],
   "source": [
    "res = check_unambiguity()\n",
    "ind = pd.MultiIndex.from_tuples(res.keys())\n",
    "data = pd.DataFrame(res,columns=ind).T\n",
    "display(data.groupby(level=1).sum())"
   ]
  },
  {
   "cell_type": "markdown",
   "metadata": {},
   "source": [
    "## Correctness checking\n",
    "In order to verify whether $C$ is a complement of $A$ we have to check:\n",
    "\n",
    "1. $L(A_{pr}) = L(A)\\cap L(C) = \\emptyset$\n",
    "2. $L(C_{pr}) = \\overline{L(A)}\\cap \\overline{L(C)} = \\emptyset$\n",
    "\n",
    "We already assume here the existence of the products. Path to the products is, for a given path to $C$, returned by `get_products(`$C$`)`. The products can be creating by creating appropriete `Makefile`s using [generate_Makefiles notebook](generate_Makefiles.ipynb). The creation of all necessary automata is a time-demanding task. We recommend to exploit as much paralellism as possible (we used 10 8-core mashines with a shared filesystem). [For IPython Notebook novices: To enable the following two cells, use the `y` key and `r` to disable it again.]\n",
    "\n",
    "Currently we use a one minute timeout for all emptiness_checks. This value can be changed in definition of function `check_product`."
   ]
  },
  {
   "cell_type": "raw",
   "metadata": {},
   "source": [
    "%run generate_Makefiles.ipynb"
   ]
  },
  {
   "cell_type": "raw",
   "metadata": {},
   "source": [
    "!make -j"
   ]
  },
  {
   "cell_type": "code",
   "execution_count": null,
   "metadata": {
    "collapsed": true
   },
   "outputs": [],
   "source": [
    "def correctness_check(compl):\n",
    "    def check_product(path,to='1m'):\n",
    "        if not is_computed(path):\n",
    "            return None\n",
    "        # No timeout easily applyable\n",
    "        #aut = spot.automaton(path)\n",
    "        #return aut.is_empty()\n",
    "        res = !timeout {to} autfilt --stats=%f --is-empty {path}\n",
    "        if len(res) == 1 and res[0] == path:\n",
    "            return True\n",
    "        else:\n",
    "            res2 = !timeout {to} autfilt --stats=%f -v --is-empty {path}\n",
    "            if len(res) == 1 and res[0] == path:\n",
    "                return False\n",
    "        return None\n",
    "    a_pr,c_pr = get_products(compl)\n",
    "    return check_product(a_pr),check_product(c_pr)"
   ]
  },
  {
   "cell_type": "markdown",
   "metadata": {},
   "source": [
    "The following code calls the `correctness_check` function for all automata produced by different tools, and shows progress of the computation. Beware, it make take a very long time."
   ]
  },
  {
   "cell_type": "code",
   "execution_count": null,
   "metadata": {
    "collapsed": true
   },
   "outputs": [],
   "source": [
    "tools=['GoalRamsey',\n",
    "'GoalRank',\n",
    "\"GoalSafraPiterman\",\n",
    "'GoalSlice',\n",
    "'UltimateBS']"
   ]
  },
  {
   "cell_type": "code",
   "execution_count": null,
   "metadata": {
    "collapsed": false
   },
   "outputs": [],
   "source": [
    "def check_all():\n",
    "    f = FloatProgress(min=1, max=len(get_cases()))\n",
    "    overall = HBox([f,Latex('Overal progress')])\n",
    "    g = FloatProgress(min=1, max=12,bar_style='success')\n",
    "    label = Latex()\n",
    "    alg = HBox([g,label])\n",
    "    mistakes = FloatProgress(min=0, max=0,bar_style='danger')\n",
    "    mis = HBox([mistakes,Latex('Ratio of wrong complements')])\n",
    "    false = []\n",
    "    display(overall,alg,mis)\n",
    "    for cs in get_cases():\n",
    "        f.value += 1\n",
    "        g.max=(len(get_complements(cs)))\n",
    "        g.value = g.min\n",
    "        for c in get_complements(cs):\n",
    "            if get_algorithm_name(c) in tools:\n",
    "                mistakes.max += 1\n",
    "                label.value = \"Algorithm: \"+get_algorithm_name(c)\n",
    "                res = correctness_check(c)\n",
    "                if False in res:\n",
    "                    mistakes.value += 1\n",
    "                    false.append(c)\n",
    "            g.value += 1\n",
    "    return false"
   ]
  },
  {
   "cell_type": "code",
   "execution_count": null,
   "metadata": {
    "collapsed": true
   },
   "outputs": [],
   "source": [
    "display(check_all())"
   ]
  }
 ],
 "metadata": {
  "kernelspec": {
   "display_name": "Python 3",
   "language": "python",
   "name": "python3"
  },
  "language_info": {
   "codemirror_mode": {
    "name": "ipython",
    "version": 3
   },
   "file_extension": ".py",
   "mimetype": "text/x-python",
   "name": "python",
   "nbconvert_exporter": "python",
   "pygments_lexer": "ipython3",
   "version": "3.4.3"
  }
 },
 "nbformat": 4,
 "nbformat_minor": 0
}
