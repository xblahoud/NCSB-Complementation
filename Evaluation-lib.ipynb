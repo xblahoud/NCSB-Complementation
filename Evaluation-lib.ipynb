{
 "cells": [
  {
   "cell_type": "code",
   "execution_count": 4,
   "metadata": {
    "collapsed": false
   },
   "outputs": [],
   "source": [
    "import os.path"
   ]
  },
  {
   "cell_type": "markdown",
   "metadata": {},
   "source": [
    "## Automata files managment"
   ]
  },
  {
   "cell_type": "code",
   "execution_count": 2,
   "metadata": {
    "collapsed": false
   },
   "outputs": [],
   "source": [
    "def get_cases(dir='.',reset=False,prefix='semideterministic',cs=[]):\n",
    "    if not cs or reset:\n",
    "        cs.clear()\n",
    "        unique_cases = !autfilt --unique --stats=%f {dir}/{prefix}/*.hoa\n",
    "        cs.extend([os.path.splitext(os.path.basename(case))[0] for case in unique_cases])\n",
    "    return cs"
   ]
  },
  {
   "cell_type": "raw",
   "metadata": {
    "collapsed": false
   },
   "source": [
    "len(get_cases('2015_1015/'))"
   ]
  },
  {
   "cell_type": "raw",
   "metadata": {},
   "source": [
    "cases=False\n",
    "def get_cases(dir='.',prefix='semideterministic',reset=False):\n",
    "    global cases\n",
    "    if not cases or reset:\n",
    "        unique_cases = !autfilt --unique --stats=%f {dir}/{prefix}/*.hoa\n",
    "        cases = [os.path.splitext(os.path.basename(case))[0] for case in unique_cases]\n",
    "    return cases"
   ]
  },
  {
   "cell_type": "code",
   "execution_count": 3,
   "metadata": {
    "collapsed": false
   },
   "outputs": [],
   "source": [
    "def get_complements(case):\n",
    "    files = !ls complement/{case}*.hoa\n",
    "    return files\n",
    "\n",
    "def get_orig_automaton(case):\n",
    "    return os.path.join(\"semideterministic\",case+\".hoa\")"
   ]
  },
  {
   "cell_type": "code",
   "execution_count": 4,
   "metadata": {
    "collapsed": true
   },
   "outputs": [],
   "source": [
    "def get_algorithm_name(aut_file):\n",
    "    if aut_file[-4:] != \".hoa\":\n",
    "        return \"case\"\n",
    "    division = aut_file[:-4].split(\"__Complement\")\n",
    "    if len(division) == 1:\n",
    "        return \"input\"\n",
    "    return division[1]"
   ]
  },
  {
   "cell_type": "code",
   "execution_count": null,
   "metadata": {
    "collapsed": true
   },
   "outputs": [],
   "source": [
    "def get_products(compl):\n",
    "    prod = os.path.join('products','prod_{}'.format(os.path.basename(compl)))\n",
    "    comp_prod = os.path.join('products','comp_prod_{}'.format(os.path.basename(compl)))\n",
    "    return prod,comp_prod"
   ]
  },
  {
   "cell_type": "code",
   "execution_count": 9,
   "metadata": {
    "collapsed": false
   },
   "outputs": [],
   "source": [
    "def is_computed(path):\n",
    "    return os.path.exists(path) and not os.stat(path).st_size == 0"
   ]
  },
  {
   "cell_type": "code",
   "execution_count": null,
   "metadata": {
    "collapsed": true
   },
   "outputs": [],
   "source": [
    "get_products(get_complements(get_cases()[0])[0])"
   ]
  },
  {
   "cell_type": "raw",
   "metadata": {
    "collapsed": true
   },
   "source": [
    "#Currently not needed\n",
    "def clear_state_labels(aut):\n",
    "    '''Cut off the state labels of `aut`.  Spot sometimes cannot\n",
    "    parse an automaton because the labels are too long.'''\n",
    "    tmp = aut+\".tmp\"\n",
    "    !sed s/'\\(State: [0-9]\\+\\) \".*\"\\(\\( {0}\\)\\?\\).*$'/'\\1\\2'/ {aut} > {tmp}\n",
    "    !mv {tmp} {aut}"
   ]
  },
  {
   "cell_type": "code",
   "execution_count": 6,
   "metadata": {
    "collapsed": true
   },
   "outputs": [],
   "source": [
    "def get_ltl2dstar_name(aut,orig=True):\n",
    "    if orig:\n",
    "        file_n=os.path.basename(aut)\n",
    "    else:\n",
    "        file_n=get_simplified_name(aut,'high')\n",
    "    return os.path.join('LTL2DSTAR',file_n)"
   ]
  },
  {
   "cell_type": "code",
   "execution_count": 7,
   "metadata": {
    "collapsed": true
   },
   "outputs": [],
   "source": [
    "def get_ltl2dstar_path(aut):\n",
    "    return os.path.join('ltl2dstar',get_ltl2dstar_name(aut))"
   ]
  },
  {
   "cell_type": "code",
   "execution_count": 8,
   "metadata": {
    "collapsed": true
   },
   "outputs": [],
   "source": [
    "def get_ltl2dstar_name(aut,simplified=False):\n",
    "    return 'ltl2dstar_'+os.path.basename(aut)"
   ]
  },
  {
   "cell_type": "code",
   "execution_count": 9,
   "metadata": {
    "collapsed": true
   },
   "outputs": [],
   "source": [
    "def get_validate_name(case):\n",
    "    return 'val_{}.hoa'.format(case)"
   ]
  },
  {
   "cell_type": "code",
   "execution_count": 10,
   "metadata": {
    "collapsed": true
   },
   "outputs": [],
   "source": [
    "def get_validate_path(case):\n",
    "    return os.path.join('products',get_validate_name(case))"
   ]
  },
  {
   "cell_type": "code",
   "execution_count": 11,
   "metadata": {
    "collapsed": false
   },
   "outputs": [],
   "source": [
    "def par(path):\n",
    "    '''Return a path enriched with skip to parent directory.'''\n",
    "    return os.path.join(os.pardir,path)"
   ]
  },
  {
   "cell_type": "markdown",
   "metadata": {},
   "source": [
    "##  Generation of simplified automata"
   ]
  },
  {
   "cell_type": "code",
   "execution_count": 12,
   "metadata": {
    "collapsed": false
   },
   "outputs": [],
   "source": [
    "def get_simplified_path(aut_file,degree='low'):\n",
    "    ### get the name of the file\n",
    "    name = get_simplified_name(os.path.basename(aut_file),degree)\n",
    "    ### add the directory prefix\n",
    "    return os.path.join('simplified',name)"
   ]
  },
  {
   "cell_type": "code",
   "execution_count": 13,
   "metadata": {
    "collapsed": false
   },
   "outputs": [],
   "source": [
    "def get_simplified_name(aut_file,degree=\"low\"):\n",
    "    return \"{}_{}.hoa\".format(os.path.basename(aut_file)[0:-4],degree)"
   ]
  },
  {
   "cell_type": "code",
   "execution_count": 14,
   "metadata": {
    "collapsed": true
   },
   "outputs": [],
   "source": [
    "def get_simplify_command(aut,output_file,degree='low',timeout='5m'):\n",
    "    return 'timeout {} autfilt --small --{} -B -H {} > {}'.\\\n",
    "        format(timeout,degree,aut,output_file)"
   ]
  },
  {
   "cell_type": "markdown",
   "metadata": {},
   "source": [
    "The following definitions are needed only for simplifications here, in ipython. Deprecated, since by Makefile one can use parallelism"
   ]
  },
  {
   "cell_type": "raw",
   "metadata": {
    "collapsed": false
   },
   "source": [
    "def simplify(aut,degree=\"low\",timeout=\"60s\"):\n",
    "    output_file = get_simplified_name(aut,degree)\n",
    "    if os.path.isfile(output_file):\n",
    "        return False\n",
    "    !timeout {timeout} autfilt --small --{degree} -H {aut} > {output_file}"
   ]
  },
  {
   "cell_type": "raw",
   "metadata": {
    "collapsed": true
   },
   "source": [
    "def simplify_case(case,degree=\"low\"):\n",
    "    for aut_file in get_complements(case):\n",
    "        simplify(aut_file,degree)"
   ]
  },
  {
   "cell_type": "raw",
   "metadata": {
    "collapsed": false
   },
   "source": [
    "def simplify_all(degree=\"low\"):\n",
    "    i=1\n",
    "    for case in get_cases():\n",
    "        print(str(i)+\":\"+case)\n",
    "        i+=1\n",
    "        simplify_case(case,degree)"
   ]
  },
  {
   "cell_type": "markdown",
   "metadata": {},
   "source": [
    "## Reading #states"
   ]
  },
  {
   "cell_type": "code",
   "execution_count": 15,
   "metadata": {
    "collapsed": false
   },
   "outputs": [],
   "source": [
    "def get_states(aut):\n",
    "    states=!autfilt --stats=%s {aut}\n",
    "    if states:\n",
    "        return states[0]\n",
    "    else: return \"\""
   ]
  },
  {
   "cell_type": "code",
   "execution_count": 16,
   "metadata": {
    "collapsed": true
   },
   "outputs": [],
   "source": [
    "def get_and_store_states(aut,entry):\n",
    "    states = get_states(aut)\n",
    "    entry[get_algorithm_name(aut)]=states"
   ]
  },
  {
   "cell_type": "code",
   "execution_count": 17,
   "metadata": {
    "collapsed": true
   },
   "outputs": [],
   "source": [
    "def extract_states(case):\n",
    "    entry=dict()\n",
    "    entry['case']=case\n",
    "    get_and_store_states(get_orig_automaton(case),entry)\n",
    "    for aut in get_complements(case)+get_simplified(case)+get_simplified(case,\"high\"):\n",
    "        get_and_store_states(aut,entry)\n",
    "    return entry"
   ]
  },
  {
   "cell_type": "code",
   "execution_count": 18,
   "metadata": {
    "collapsed": false
   },
   "outputs": [],
   "source": [
    "def Incrementor(i=0,arg=0):\n",
    "    while(True):\n",
    "        yield i\n",
    "        i+=1\n",
    "        i+=arg"
   ]
  },
  {
   "cell_type": "markdown",
   "metadata": {},
   "source": [
    "### Processing data"
   ]
  },
  {
   "cell_type": "code",
   "execution_count": 19,
   "metadata": {
    "collapsed": false
   },
   "outputs": [],
   "source": [
    "def collect_states():\n",
    "    states = []\n",
    "    ids = Incrementor()\n",
    "    for case in get_cases():\n",
    "        results=extract_states(case)\n",
    "        results['id']=ids.send(None)\n",
    "        states.append(results)\n",
    "    return states"
   ]
  }
 ],
 "metadata": {
  "kernelspec": {
   "display_name": "Python 3",
   "language": "python",
   "name": "python3"
  },
  "language_info": {
   "codemirror_mode": {
    "name": "ipython",
    "version": 3
   },
   "file_extension": ".py",
   "mimetype": "text/x-python",
   "name": "python",
   "nbconvert_exporter": "python",
   "pygments_lexer": "ipython3",
   "version": "3.4.3"
  }
 },
 "nbformat": 4,
 "nbformat_minor": 0
}
