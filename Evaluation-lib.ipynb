{
 "cells": [
  {
   "cell_type": "code",
   "execution_count": null,
   "metadata": {
    "collapsed": true
   },
   "outputs": [],
   "source": [
    "import os.path"
   ]
  },
  {
   "cell_type": "markdown",
   "metadata": {},
   "source": [
    "## Automata files managment"
   ]
  },
  {
   "cell_type": "code",
   "execution_count": null,
   "metadata": {
    "collapsed": false
   },
   "outputs": [],
   "source": [
    "def convert_ats_to_hoa_gff(aut):\n",
    "    '''Convert an automaton `aut` in `.ats` format into `.hoa`\n",
    "    and `.gff` formats'''\n",
    "    command = \\\n",
    "'parseAutomata(\"{0}.ats\");\\n\\\n",
    "write(nwa, \"{0}\", \"HOA\");\\n\\\n",
    "write(nwa, \"{0}\", \"GFF\");'\n",
    "    \n",
    "    if os.path.exists(aut+'.hoa') and os.path.exists(aut+'.gff'):\n",
    "        return\n",
    "    cm = command.format(aut)\n",
    "    print(cm,file=open('translate.ats','w'))\n",
    "    !./AutomataScriptInterpreter.sh translate.ats > /dev/null 2>/dev/null\n",
    "    !rm translate.ats\n",
    "    # Ultimate inconsistently names AP for .hoa and .gff\n",
    "    !sed -i \"/AP/,/Acceptance/ s/p\\([0-9]\\+\\)/\\1/g\" {aut}.hoa"
   ]
  },
  {
   "cell_type": "code",
   "execution_count": null,
   "metadata": {
    "collapsed": false
   },
   "outputs": [],
   "source": [
    "def par(path):\n",
    "    '''Return a path enriched with skip to parent directory.\n",
    "    This is used in the recursive Makefiles'''\n",
    "    return os.path.join(os.pardir,path)"
   ]
  },
  {
   "cell_type": "code",
   "execution_count": null,
   "metadata": {
    "collapsed": false
   },
   "outputs": [],
   "source": [
    "def is_computed(path):\n",
    "    '''Some automata files exist, but are empty'''\n",
    "    return os.path.exists(path) and not os.stat(path).st_size == 0"
   ]
  },
  {
   "cell_type": "code",
   "execution_count": null,
   "metadata": {
    "collapsed": false
   },
   "outputs": [],
   "source": [
    "def get_cases(dir='.',reset=False,prefix='semideterministic',cs=[]):\n",
    "    if not cs or reset:\n",
    "        cs.clear()\n",
    "        unique_cases = !autfilt --unique --stats=%f {dir}/{prefix}/*.hoa\n",
    "        cs.extend([os.path.splitext(os.path.basename(case))[0] for case in unique_cases])\n",
    "    return cs\n",
    "\n",
    "def get_orig_automaton(case):\n",
    "    return os.path.join(\"semideterministic\",case+\".hoa\")\n",
    "\n",
    "def get_complements(case):\n",
    "    files = !ls complement/{case}*.hoa\n",
    "    return files\n",
    "\n",
    "def get_algorithm_name(aut_file):\n",
    "    if aut_file[-4:] != \".hoa\":\n",
    "        return \"case\"\n",
    "    division = aut_file[:-4].split(\"__Complement\")\n",
    "    if len(division) == 1:\n",
    "        return \"input\"\n",
    "    return division[1]"
   ]
  },
  {
   "cell_type": "code",
   "execution_count": null,
   "metadata": {
    "collapsed": true
   },
   "outputs": [],
   "source": [
    "GOAL_algorithms = [\n",
    "    {'name':'ThreeStep',\n",
    "     'args':'sdbw'},\n",
    "    {'name':'SafraPiterman',\n",
    "     'args':'piterman -macc -sim -eq'},\n",
    "    {'name':'Rank',\n",
    "     'args':'rank -macc -tr -ro -cp'},\n",
    "    {'name':'Slice',\n",
    "     'args':'slice -macc -eg -madj -ro'},\n",
    "    {'name':'Ramsey',\n",
    "     'args':'ramsey -macc -min'},\n",
    "]"
   ]
  },
  {
   "cell_type": "code",
   "execution_count": null,
   "metadata": {
    "collapsed": true
   },
   "outputs": [],
   "source": [
    "def get_complement_names(case):\n",
    "    suffixes = ['__ComplementUltimateBS']\n",
    "    suffixes.extend(['__ComplementGoal'+alg['name'] for alg in GOAL_algorithms])\n",
    "    return [case+suf+'.hoa' for suf in suffixes]"
   ]
  },
  {
   "cell_type": "markdown",
   "metadata": {},
   "source": [
    "###  Generation of simplified automata"
   ]
  },
  {
   "cell_type": "code",
   "execution_count": null,
   "metadata": {
    "collapsed": false
   },
   "outputs": [],
   "source": [
    "def get_simplified_name(aut_file,degree='high'):\n",
    "    return \"{}_{}.hoa\".format(os.path.basename(aut_file)[0:-4],degree)\n",
    "\n",
    "def get_simplified_path(aut_file,degree='high'):\n",
    "    ### get the name of the file\n",
    "    name = get_simplified_name(os.path.basename(aut_file),degree)\n",
    "    ### add the directory prefix\n",
    "    return os.path.join('simplified',name)\n",
    "\n",
    "def get_simplify_command(aut,output_file,degree='high',timeout='5m'):\n",
    "    return 'timeout {} autfilt --small --{} -B -H {} > {}'.\\\n",
    "        format(timeout,degree,aut,output_file)"
   ]
  },
  {
   "cell_type": "markdown",
   "metadata": {},
   "source": [
    "### Products for correctness checks"
   ]
  },
  {
   "cell_type": "code",
   "execution_count": null,
   "metadata": {
    "collapsed": true
   },
   "outputs": [],
   "source": [
    "def get_products(compl):\n",
    "    prod = os.path.join('products','prod_{}'.format(os.path.basename(compl)))\n",
    "    comp_prod = os.path.join('products','comp_prod_{}'.format(os.path.basename(compl)))\n",
    "    return prod,comp_prod"
   ]
  },
  {
   "cell_type": "code",
   "execution_count": null,
   "metadata": {
    "collapsed": true
   },
   "outputs": [],
   "source": [
    "def get_validate_name(case):\n",
    "    return 'val_{}.hoa'.format(case)\n",
    "\n",
    "def get_validate_path(case):\n",
    "    return os.path.join('products',get_validate_name(case))"
   ]
  },
  {
   "cell_type": "code",
   "execution_count": null,
   "metadata": {
    "collapsed": true
   },
   "outputs": [],
   "source": [
    "def get_ltl2dstar_name(aut,simplified=False):\n",
    "    return 'ltl2dstar_'+os.path.basename(aut)\n",
    "\n",
    "def get_ltl2dstar_path(aut):\n",
    "    return os.path.join('ltl2dstar',get_ltl2dstar_name(aut))"
   ]
  },
  {
   "cell_type": "raw",
   "metadata": {
    "collapsed": true
   },
   "source": [
    "get_products(get_complements(get_cases()[0])[0])"
   ]
  },
  {
   "cell_type": "raw",
   "metadata": {
    "collapsed": true
   },
   "source": [
    "#Currently not needed\n",
    "def clear_state_labels(aut):\n",
    "    '''Cut off the state labels of `aut`.  Spot sometimes cannot\n",
    "    parse an automaton because the labels are too long.'''\n",
    "    tmp = aut+\".tmp\"\n",
    "    !sed s/'\\(State: [0-9]\\+\\) \".*\"\\(\\( {0}\\)\\?\\).*$'/'\\1\\2'/ {aut} > {tmp}\n",
    "    !mv {tmp} {aut}"
   ]
  },
  {
   "cell_type": "raw",
   "metadata": {
    "collapsed": true
   },
   "source": [
    "def get_ltl2dstar_name(aut,orig=True):\n",
    "    if orig:\n",
    "        file_n=os.path.basename(aut)\n",
    "    else:\n",
    "        file_n=get_simplified_name(aut,'high')\n",
    "    return os.path.join('LTL2DSTAR',file_n)"
   ]
  }
 ],
 "metadata": {
  "kernelspec": {
   "display_name": "Python 3",
   "language": "python",
   "name": "python3"
  },
  "language_info": {
   "codemirror_mode": {
    "name": "ipython",
    "version": 3
   },
   "file_extension": ".py",
   "mimetype": "text/x-python",
   "name": "python",
   "nbconvert_exporter": "python",
   "pygments_lexer": "ipython3",
   "version": "3.4.3"
  }
 },
 "nbformat": 4,
 "nbformat_minor": 0
}
